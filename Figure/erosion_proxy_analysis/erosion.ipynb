{
 "cells": [
  {
   "cell_type": "markdown",
   "id": "b15ea8e8",
   "metadata": {},
   "source": [
    "# Mercury Correlations in Lake Sediments: Pre- and Post-1970 Analysis\n",
    "\n",
    "This notebook analyzes the relationships between mercury (Hg) concentrations and selected elemental proxies in lake sediment cores. \n",
    "\n",
    "We group elements into three categories:\n",
    "\n",
    "- **Al & Si**: Representing alumino-silicates\n",
    "- **Ti & Zr**: Proxies for erosion\n",
    "- **Fe & Br**: Related to organic matter content\n",
    "\n",
    "We compute Pearson correlation coefficients (r) and p-values separately for data before and after 1970 to highlight potential shifts in sediment geochemistry linked to environmental changes.\n",
    "\n",
    "Scatter plots visualize Hg vs element concentrations colored by age, without regression lines. Statistical results are summarized in tables."
   ]
  },
  {
   "cell_type": "code",
   "execution_count": 148,
   "id": "885b1991",
   "metadata": {},
   "outputs": [],
   "source": [
    "# --- Imports ---\n",
    "import pandas as pd\n",
    "import numpy as np\n",
    "import matplotlib.pyplot as plt\n",
    "from sklearn.linear_model import LinearRegression\n",
    "from sklearn.metrics import r2_score\n",
    "from scipy.stats import linregress\n",
    "\n",
    "# Plot styling\n",
    "plt.rc('font', size=15)\n",
    "plt.rc('axes', titlesize=15, labelsize=15)\n",
    "plt.rc('xtick', labelsize=15)\n",
    "plt.rc('ytick', labelsize=15)\n",
    "plt.rc('legend', fontsize=15)\n",
    "plt.rc('figure', titlesize=15)"
   ]
  },
  {
   "cell_type": "markdown",
   "id": "f79ce07f",
   "metadata": {},
   "source": [
    "## Data Loading\n",
    "\n",
    "Load all necessary data:  \n",
    "- Elemental scan data with depth `'Age_X_EYC'`  \n",
    "- Mercury concentrations with depths `'Age_EYC'`  \n",
    "\n",
    "These are expected in a single DataFrame, with columns for each element, Hg, and their respective depths."
   ]
  },
  {
   "cell_type": "code",
   "execution_count": 149,
   "id": "a0850edd",
   "metadata": {},
   "outputs": [
    {
     "name": "stdout",
     "output_type": "stream",
     "text": [
      "      age_EYC  Hg_conc_EYC    CLR_Al    CLR_Si    CLR_Ti    CLR_Zr    CLR_Fe  \\\n",
      "0  2023.00000    66.497230 -0.392258  1.469406 -0.671633 -0.895438  2.225043   \n",
      "1  2020.36297    63.486721 -0.379071  1.469166 -0.717179 -0.982412  2.255241   \n",
      "2  2017.72594    59.526447 -0.352728  1.504679 -0.786079 -1.031684  2.249497   \n",
      "3  2014.92409    59.938530 -0.369098  1.504981 -0.719286 -0.945888  2.252495   \n",
      "4  2011.95743    63.450665 -0.264869  1.543930 -0.760564 -1.137432  2.244747   \n",
      "\n",
      "     CLR_Br    Age_X_EYC  \n",
      "0 -1.942426  2023.000000  \n",
      "1 -1.544312  2022.835186  \n",
      "2 -1.845394  2022.670371  \n",
      "3 -2.003616  2022.505557  \n",
      "4 -1.779186  2022.340742  \n"
     ]
    }
   ],
   "source": [
    "# Relative paths (assuming starting from erosion_proxies/ folder)\n",
    "path_data = '../../Data/'\n",
    "\n",
    "# Load the files\n",
    "df_age = pd.read_excel(path_data + '210_Pb_dating/Age.xlsx')\n",
    "df_Hg = pd.read_excel(path_data + 'Hg.xlsx')\n",
    "df_Xray = pd.read_excel(path_data + 'X_ray.xlsx')\n",
    "\n",
    "# Select relevant columns\n",
    "df_age_sel = df_age[['age_EYC']]\n",
    "df_Hg_sel = df_Hg[['Hg_conc_EYC']]\n",
    "df_Xray_sel = df_Xray[['CLR_Al', 'CLR_Si', 'CLR_Ti', 'CLR_Zr', 'CLR_Fe', 'CLR_Br', 'Age_X_EYC']]\n",
    "\n",
    "# Concatenate columns into a single DataFrame\n",
    "# This assumes that the rows correspond across all files (same order)\n",
    "df = pd.concat([df_age_sel.reset_index(drop=True),\n",
    "                df_Hg_sel.reset_index(drop=True),\n",
    "                df_Xray_sel.reset_index(drop=True)], axis=1)\n",
    "\n",
    "# Drop rows with NaNs in relevant columns\n",
    "relevant_cols = ['age_EYC', 'Hg_conc_EYC', 'CLR_Al', 'CLR_Si', 'CLR_Ti', 'CLR_Zr', 'CLR_Fe', 'CLR_Br']\n",
    "df = df.dropna(subset=relevant_cols)\n",
    "\n",
    "print(df.head())"
   ]
  },
  {
   "cell_type": "markdown",
   "id": "e4643a44",
   "metadata": {},
   "source": [
    "## Aggregation Function\n",
    "\n",
    "This function averages elemental concentrations between consecutive Hg depth intervals to align datasets sampled at different resolutions."
   ]
  },
  {
   "cell_type": "code",
   "execution_count": 150,
   "id": "c8ce3506",
   "metadata": {},
   "outputs": [],
   "source": [
    "def aggregate_element_by_Hg_sample(df, element_list, depth_col='Age_X_EYC', hg_col='Hg_conc_EYC', hg_depth_col='age_EYC'):\n",
    "    \"\"\"\n",
    "    Aggregates element concentrations over intervals defined by the spacing of Hg samples.\n",
    "    The mean value of each element is computed within each Hg sampling interval.\n",
    "\n",
    "    Parameters:\n",
    "    - df: pandas DataFrame containing Hg and element data\n",
    "    - element_list: list of elements (columns) to average\n",
    "    - depth_col: column name for depth/age of the elements (default 'Age_X_EYC')\n",
    "    - hg_col: column name for Hg values (default 'Hg_EYC')\n",
    "    - hg_depth_col: column name for depth/age of Hg values (default 'Age_EYC')\n",
    "\n",
    "    Returns:\n",
    "    - pd.DataFrame with averaged elements and Hg for each interval\n",
    "    \"\"\"\n",
    "    # Drop rows with missing values in any relevant column\n",
    "    df_clean = df[[hg_col, hg_depth_col, depth_col] + element_list].dropna()\n",
    "\n",
    "    # Extract unique Hg depths and sort them\n",
    "    hg_depths = sorted(df_clean[hg_depth_col].unique())\n",
    "    aggregated_data = []\n",
    "\n",
    "    for i in range(len(hg_depths) - 1):\n",
    "        # Define the interval based on two consecutive Hg sample ages\n",
    "        depth_min = hg_depths[i]\n",
    "        depth_max = hg_depths[i + 1]\n",
    "\n",
    "        # Select rows whose element depth falls within the interval\n",
    "        mask = (df_clean[depth_col] >= depth_min) & (df_clean[depth_col] < depth_max)\n",
    "        subset = df_clean[mask]\n",
    "\n",
    "        if not subset.empty:\n",
    "            # Compute mean concentrations for each element in the interval\n",
    "            element_means = subset[element_list].mean()\n",
    "\n",
    "            # Associate the mean Hg value in the interval\n",
    "            mean_hg = df_clean[\n",
    "                (df_clean[hg_depth_col] >= depth_min) & (df_clean[hg_depth_col] < depth_max)\n",
    "            ][hg_col].mean()\n",
    "\n",
    "            # Save results\n",
    "            aggregated_data.append({\n",
    "                'depth_min': depth_min,\n",
    "                'depth_max': depth_max,\n",
    "                hg_col: mean_hg,\n",
    "                **element_means.to_dict()\n",
    "            })\n",
    "\n",
    "    return pd.DataFrame(aggregated_data)"
   ]
  },
  {
   "cell_type": "markdown",
   "id": "ab0480f9",
   "metadata": {},
   "source": [
    "## Aggregate Data\n",
    "\n",
    "Run the aggregation to produce a dataset where element concentrations are averaged within the Hg depth intervals."
   ]
  },
  {
   "cell_type": "code",
   "execution_count": 151,
   "id": "f574988a",
   "metadata": {},
   "outputs": [
    {
     "name": "stdout",
     "output_type": "stream",
     "text": [
      "    depth_min   depth_max  Hg_conc_EYC    CLR_Al    CLR_Si    CLR_Ti  \\\n",
      "0  2014.92409  2017.72594    59.938530 -0.359395  1.500958 -0.736232   \n",
      "1  2017.72594  2020.36297    59.526447 -0.330759  1.488888 -0.810287   \n",
      "2  2020.36297  2023.00000    63.486721 -0.331581  1.510642 -0.751655   \n",
      "\n",
      "     CLR_Zr    CLR_Fe    CLR_Br  \n",
      "0 -1.173573  2.199302 -1.703041  \n",
      "1 -0.982284  2.231027 -1.722973  \n",
      "2 -1.015815  2.238764 -1.794820  \n"
     ]
    }
   ],
   "source": [
    "elements = ['CLR_Al', 'CLR_Si', 'CLR_Ti', 'CLR_Zr', 'CLR_Fe', 'CLR_Br']\n",
    "df_agg = aggregate_element_by_Hg_sample(df, element_list=elements)\n",
    "\n",
    "# Check result\n",
    "print(df_agg)"
   ]
  },
  {
   "cell_type": "markdown",
   "id": "f0bbe3b2",
   "metadata": {},
   "source": [
    "## Correlation Analysis\n",
    "\n",
    "We will analyze correlations between Hg and elements grouped as:  \n",
    "- Aluminum and Silicon (Al, Si) – proxies for aluminosilicates  \n",
    "- Titanium and Zirconium (Ti, Zr) – proxies for erosion  \n",
    "- Iron and Bromine (Fe, Br) – related to organic matter  \n",
    "\n",
    "Correlation statistics (r, p-value) will be computed separately for pre-1970 and post-1970 samples."
   ]
  },
  {
   "cell_type": "code",
   "execution_count": 152,
   "id": "14ec3fe0",
   "metadata": {},
   "outputs": [],
   "source": [
    "def compute_correlations_by_period(df_agg, element_list=None, split_year=1970, method='pearson'):\n",
    "    \"\"\"\n",
    "    Compute correlations between Hg and selected elements before and after a given year.\n",
    "\n",
    "    Parameters:\n",
    "    - df_agg (pd.DataFrame): Aggregated DataFrame with 'age_EYC', 'Hg_conc_EYC', and element concentrations\n",
    "    - element_list (list): List of element columns to include (default: inferred automatically)\n",
    "    - split_year (int): Year to split the dataset (e.g., 1970)\n",
    "    - method (str): Correlation method ('pearson', 'spearman', or 'kendall')\n",
    "\n",
    "    Returns:\n",
    "    - pd.DataFrame: Table with correlation coefficients before and after the split year\n",
    "    \"\"\"\n",
    "    if element_list is None:\n",
    "        element_list = [col for col in df_agg.columns if col not in ['Hg_conc_EYC', 'age_EYC']]\n",
    "\n",
    "    # Subset the DataFrame before and after the split year\n",
    "    df_before = df_agg[df_agg['age_EYC'] < split_year]\n",
    "    df_after = df_agg[df_agg['age_EYC'] >= split_year]\n",
    "\n",
    "    # Compute correlations for both periods\n",
    "    corr_before = df_before[element_list].corrwith(df_before['Hg_conc_EYC'], method=method)\n",
    "    corr_after = df_after[element_list].corrwith(df_after['Hg_conc_EYC'], method=method)\n",
    "\n",
    "    # Combine results into a single DataFrame\n",
    "    correlation_table = pd.DataFrame({\n",
    "        f'Corr_before_{split_year}': corr_before,\n",
    "        f'Corr_after_{split_year}': corr_after\n",
    "    })\n",
    "\n",
    "    return correlation_table"
   ]
  },
  {
   "cell_type": "code",
   "execution_count": 153,
   "id": "39ae418e",
   "metadata": {},
   "outputs": [
    {
     "ename": "KeyError",
     "evalue": "'age_EYC'",
     "output_type": "error",
     "traceback": [
      "\u001b[0;31m---------------------------------------------------------------------------\u001b[0m",
      "\u001b[0;31mKeyError\u001b[0m                                  Traceback (most recent call last)",
      "File \u001b[0;32m/opt/anaconda3/lib/python3.12/site-packages/pandas/core/indexes/base.py:3805\u001b[0m, in \u001b[0;36mIndex.get_loc\u001b[0;34m(self, key)\u001b[0m\n\u001b[1;32m   3804\u001b[0m \u001b[38;5;28;01mtry\u001b[39;00m:\n\u001b[0;32m-> 3805\u001b[0m     \u001b[38;5;28;01mreturn\u001b[39;00m \u001b[38;5;28mself\u001b[39m\u001b[38;5;241m.\u001b[39m_engine\u001b[38;5;241m.\u001b[39mget_loc(casted_key)\n\u001b[1;32m   3806\u001b[0m \u001b[38;5;28;01mexcept\u001b[39;00m \u001b[38;5;167;01mKeyError\u001b[39;00m \u001b[38;5;28;01mas\u001b[39;00m err:\n",
      "File \u001b[0;32mindex.pyx:167\u001b[0m, in \u001b[0;36mpandas._libs.index.IndexEngine.get_loc\u001b[0;34m()\u001b[0m\n",
      "File \u001b[0;32mindex.pyx:196\u001b[0m, in \u001b[0;36mpandas._libs.index.IndexEngine.get_loc\u001b[0;34m()\u001b[0m\n",
      "File \u001b[0;32mpandas/_libs/hashtable_class_helper.pxi:7081\u001b[0m, in \u001b[0;36mpandas._libs.hashtable.PyObjectHashTable.get_item\u001b[0;34m()\u001b[0m\n",
      "File \u001b[0;32mpandas/_libs/hashtable_class_helper.pxi:7089\u001b[0m, in \u001b[0;36mpandas._libs.hashtable.PyObjectHashTable.get_item\u001b[0;34m()\u001b[0m\n",
      "\u001b[0;31mKeyError\u001b[0m: 'age_EYC'",
      "\nThe above exception was the direct cause of the following exception:\n",
      "\u001b[0;31mKeyError\u001b[0m                                  Traceback (most recent call last)",
      "Cell \u001b[0;32mIn[153], line 5\u001b[0m\n\u001b[1;32m      2\u001b[0m elements \u001b[38;5;241m=\u001b[39m [\u001b[38;5;124m'\u001b[39m\u001b[38;5;124mCLR_Al\u001b[39m\u001b[38;5;124m'\u001b[39m, \u001b[38;5;124m'\u001b[39m\u001b[38;5;124mCLR_Si\u001b[39m\u001b[38;5;124m'\u001b[39m, \u001b[38;5;124m'\u001b[39m\u001b[38;5;124mCLR_Ti\u001b[39m\u001b[38;5;124m'\u001b[39m, \u001b[38;5;124m'\u001b[39m\u001b[38;5;124mCLR_Zr\u001b[39m\u001b[38;5;124m'\u001b[39m, \u001b[38;5;124m'\u001b[39m\u001b[38;5;124mCLR_Fe\u001b[39m\u001b[38;5;124m'\u001b[39m, \u001b[38;5;124m'\u001b[39m\u001b[38;5;124mCLR_Br\u001b[39m\u001b[38;5;124m'\u001b[39m]\n\u001b[1;32m      4\u001b[0m \u001b[38;5;66;03m# Compute correlations before and after 1970\u001b[39;00m\n\u001b[0;32m----> 5\u001b[0m correlation_by_period \u001b[38;5;241m=\u001b[39m compute_correlations_by_period(df_agg, element_list\u001b[38;5;241m=\u001b[39melements)\n\u001b[1;32m      7\u001b[0m \u001b[38;5;66;03m# Display the result\u001b[39;00m\n\u001b[1;32m      8\u001b[0m correlation_by_period\n",
      "Cell \u001b[0;32mIn[152], line 18\u001b[0m, in \u001b[0;36mcompute_correlations_by_period\u001b[0;34m(df_agg, element_list, split_year, method)\u001b[0m\n\u001b[1;32m     15\u001b[0m     element_list \u001b[38;5;241m=\u001b[39m [col \u001b[38;5;28;01mfor\u001b[39;00m col \u001b[38;5;129;01min\u001b[39;00m df_agg\u001b[38;5;241m.\u001b[39mcolumns \u001b[38;5;28;01mif\u001b[39;00m col \u001b[38;5;129;01mnot\u001b[39;00m \u001b[38;5;129;01min\u001b[39;00m [\u001b[38;5;124m'\u001b[39m\u001b[38;5;124mHg_conc_EYC\u001b[39m\u001b[38;5;124m'\u001b[39m, \u001b[38;5;124m'\u001b[39m\u001b[38;5;124mage_EYC\u001b[39m\u001b[38;5;124m'\u001b[39m]]\n\u001b[1;32m     17\u001b[0m \u001b[38;5;66;03m# Subset the DataFrame before and after the split year\u001b[39;00m\n\u001b[0;32m---> 18\u001b[0m df_before \u001b[38;5;241m=\u001b[39m df_agg[df_agg[\u001b[38;5;124m'\u001b[39m\u001b[38;5;124mage_EYC\u001b[39m\u001b[38;5;124m'\u001b[39m] \u001b[38;5;241m<\u001b[39m split_year]\n\u001b[1;32m     19\u001b[0m df_after \u001b[38;5;241m=\u001b[39m df_agg[df_agg[\u001b[38;5;124m'\u001b[39m\u001b[38;5;124mage_EYC\u001b[39m\u001b[38;5;124m'\u001b[39m] \u001b[38;5;241m>\u001b[39m\u001b[38;5;241m=\u001b[39m split_year]\n\u001b[1;32m     21\u001b[0m \u001b[38;5;66;03m# Compute correlations for both periods\u001b[39;00m\n",
      "File \u001b[0;32m/opt/anaconda3/lib/python3.12/site-packages/pandas/core/frame.py:4102\u001b[0m, in \u001b[0;36mDataFrame.__getitem__\u001b[0;34m(self, key)\u001b[0m\n\u001b[1;32m   4100\u001b[0m \u001b[38;5;28;01mif\u001b[39;00m \u001b[38;5;28mself\u001b[39m\u001b[38;5;241m.\u001b[39mcolumns\u001b[38;5;241m.\u001b[39mnlevels \u001b[38;5;241m>\u001b[39m \u001b[38;5;241m1\u001b[39m:\n\u001b[1;32m   4101\u001b[0m     \u001b[38;5;28;01mreturn\u001b[39;00m \u001b[38;5;28mself\u001b[39m\u001b[38;5;241m.\u001b[39m_getitem_multilevel(key)\n\u001b[0;32m-> 4102\u001b[0m indexer \u001b[38;5;241m=\u001b[39m \u001b[38;5;28mself\u001b[39m\u001b[38;5;241m.\u001b[39mcolumns\u001b[38;5;241m.\u001b[39mget_loc(key)\n\u001b[1;32m   4103\u001b[0m \u001b[38;5;28;01mif\u001b[39;00m is_integer(indexer):\n\u001b[1;32m   4104\u001b[0m     indexer \u001b[38;5;241m=\u001b[39m [indexer]\n",
      "File \u001b[0;32m/opt/anaconda3/lib/python3.12/site-packages/pandas/core/indexes/base.py:3812\u001b[0m, in \u001b[0;36mIndex.get_loc\u001b[0;34m(self, key)\u001b[0m\n\u001b[1;32m   3807\u001b[0m     \u001b[38;5;28;01mif\u001b[39;00m \u001b[38;5;28misinstance\u001b[39m(casted_key, \u001b[38;5;28mslice\u001b[39m) \u001b[38;5;129;01mor\u001b[39;00m (\n\u001b[1;32m   3808\u001b[0m         \u001b[38;5;28misinstance\u001b[39m(casted_key, abc\u001b[38;5;241m.\u001b[39mIterable)\n\u001b[1;32m   3809\u001b[0m         \u001b[38;5;129;01mand\u001b[39;00m \u001b[38;5;28many\u001b[39m(\u001b[38;5;28misinstance\u001b[39m(x, \u001b[38;5;28mslice\u001b[39m) \u001b[38;5;28;01mfor\u001b[39;00m x \u001b[38;5;129;01min\u001b[39;00m casted_key)\n\u001b[1;32m   3810\u001b[0m     ):\n\u001b[1;32m   3811\u001b[0m         \u001b[38;5;28;01mraise\u001b[39;00m InvalidIndexError(key)\n\u001b[0;32m-> 3812\u001b[0m     \u001b[38;5;28;01mraise\u001b[39;00m \u001b[38;5;167;01mKeyError\u001b[39;00m(key) \u001b[38;5;28;01mfrom\u001b[39;00m \u001b[38;5;21;01merr\u001b[39;00m\n\u001b[1;32m   3813\u001b[0m \u001b[38;5;28;01mexcept\u001b[39;00m \u001b[38;5;167;01mTypeError\u001b[39;00m:\n\u001b[1;32m   3814\u001b[0m     \u001b[38;5;66;03m# If we have a listlike key, _check_indexing_error will raise\u001b[39;00m\n\u001b[1;32m   3815\u001b[0m     \u001b[38;5;66;03m#  InvalidIndexError. Otherwise we fall through and re-raise\u001b[39;00m\n\u001b[1;32m   3816\u001b[0m     \u001b[38;5;66;03m#  the TypeError.\u001b[39;00m\n\u001b[1;32m   3817\u001b[0m     \u001b[38;5;28mself\u001b[39m\u001b[38;5;241m.\u001b[39m_check_indexing_error(key)\n",
      "\u001b[0;31mKeyError\u001b[0m: 'age_EYC'"
     ]
    }
   ],
   "source": [
    "# Define list of element columns\n",
    "elements = ['CLR_Al', 'CLR_Si', 'CLR_Ti', 'CLR_Zr', 'CLR_Fe', 'CLR_Br']\n",
    "\n",
    "# Compute correlations before and after 1970\n",
    "correlation_by_period = compute_correlations_by_period(df_agg, element_list=elements)\n",
    "\n",
    "# Display the result\n",
    "correlation_by_period"
   ]
  },
  {
   "cell_type": "markdown",
   "id": "4be484e9",
   "metadata": {},
   "source": [
    "## Summary\n",
    "\n",
    "- Element concentrations were averaged within Hg sampling depth intervals to align datasets.  \n",
    "- Correlations between Hg and element proxies were analyzed separately before and after 1970 to highlight temporal shifts.  \n",
    "- The plot shows scatterplots colored by sample age with correlation coefficients annotated for both periods."
   ]
  }
 ],
 "metadata": {
  "kernelspec": {
   "display_name": "base",
   "language": "python",
   "name": "python3"
  },
  "language_info": {
   "codemirror_mode": {
    "name": "ipython",
    "version": 3
   },
   "file_extension": ".py",
   "mimetype": "text/x-python",
   "name": "python",
   "nbconvert_exporter": "python",
   "pygments_lexer": "ipython3",
   "version": "3.12.2"
  }
 },
 "nbformat": 4,
 "nbformat_minor": 5
}
