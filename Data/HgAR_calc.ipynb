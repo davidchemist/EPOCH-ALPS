{
 "cells": [
  {
   "cell_type": "markdown",
   "id": "68980ebe",
   "metadata": {},
   "source": [
    "# Estimating Mercury Accumulation in Lake Sediments and Glacial Input\n",
    "\n",
    "This notebook estimates mercury (Hg) accumulation in the sediments of two alpine lakes (EYC and GDL) between 1970 and 2023. Calculations are based on:\n",
    "\n",
    "- Mercury concentration (Hg)\n",
    "- Dry bulk density (DBD)\n",
    "- Sediment accumulation rate (SAR)\n",
    "\n",
    "It also evaluates the total Hg mass in sediments and explores Hg input from glacial melt, using mass balance and published Hg concentrations in snow and ice."
   ]
  },
  {
   "cell_type": "code",
   "execution_count": 12,
   "id": "fa8247b2",
   "metadata": {},
   "outputs": [],
   "source": [
    "import pandas as pd\n",
    "import numpy as np\n",
    "\n",
    "# === Function to compute Hg accumulation rate (HgAR) and error ===\n",
    "def calculate_HgAR_vector(Hg_conc, density, SAR, err_Hg, err_DBD, err_SAR):\n",
    "    HgAR = Hg_conc * density * SAR * 10\n",
    "    rel_error = np.sqrt(err_Hg**2 + err_DBD**2 + err_SAR**2)\n",
    "    abs_error = rel_error * HgAR\n",
    "    return HgAR, abs_error\n",
    "\n",
    "# === Function to integrate HgAR vector ===\n",
    "def integrate_HgAR(HgAR_vector, age_vector):\n",
    "    return np.trapz(HgAR_vector, x=age_vector)\n",
    "\n",
    "# === Function to integrate propagated error ===\n",
    "def integrate_error(HgAR_err_vector, age_vector):\n",
    "    error_squared_sum = 0\n",
    "    for i in range(len(age_vector) - 1):\n",
    "        dx = age_vector.iloc[i+1] - age_vector.iloc[i]\n",
    "        dy_err_i = HgAR_err_vector.iloc[i]\n",
    "        dy_err_ip1 = HgAR_err_vector.iloc[i+1]\n",
    "        trapezoid_var = ((dx / 2) ** 2) * (dy_err_i**2 + dy_err_ip1**2)\n",
    "        error_squared_sum += trapezoid_var\n",
    "    return np.sqrt(error_squared_sum)\n",
    "\n",
    "# === Function to compute total Hg mass in lake sediments ===\n",
    "def compute_mass(F_vector_area, err_area, lake_surface_m2):\n",
    "    mass = F_vector_area * lake_surface_m2\n",
    "    err_mass = err_area * lake_surface_m2\n",
    "    return mass, err_mass"
   ]
  },
  {
   "cell_type": "markdown",
   "id": "3822031b",
   "metadata": {},
   "source": [
    "## Constants and Lake Surface Areas\n",
    "\n",
    "We define the lake surface areas (in m²) and the assumed error on DBD:\n",
    "\n",
    "- EYC: 0.151 km² = 151,000 m²\n",
    "- GDL: 0.047 km² = 47,000 m²\n",
    "- Relative error on dry bulk density: 5%"
   ]
  },
  {
   "cell_type": "code",
   "execution_count": 13,
   "id": "f28c26d4",
   "metadata": {},
   "outputs": [],
   "source": [
    "surface_GDL_m2 = 47000     # Grand Lac\n",
    "surface_EYC_m2 = 151000    # Eychauda\n",
    "err_DBD = 0.05"
   ]
  },
  {
   "cell_type": "markdown",
   "id": "ea5478ed",
   "metadata": {},
   "source": [
    "## Load Input Data\n",
    "\n",
    "Three datasets are loaded:\n",
    "- Hg.xlsx: Mercury concentrations and relative standard deviations\n",
    "- DBD.xlsx: Dry bulk density profiles\n",
    "- Age.xlsx: Age models and sediment accumulation rates"
   ]
  },
  {
   "cell_type": "code",
   "execution_count": 14,
   "id": "259b92e9",
   "metadata": {},
   "outputs": [],
   "source": [
    "df_Hg = pd.read_excel('Hg.xlsx')\n",
    "df_DBD = pd.read_excel('DBD.xlsx')\n",
    "df_Age = pd.read_excel('210_Pb_dating/Age.xlsx')"
   ]
  },
  {
   "cell_type": "markdown",
   "id": "d75719d3",
   "metadata": {},
   "source": [
    "## Extract Sedimentation Rates and Uncertainties\n",
    "\n",
    "Sediment Accumulation Rates (SAR) and their relative errors are extracted from the first row."
   ]
  },
  {
   "cell_type": "code",
   "execution_count": 15,
   "id": "8a8bc538",
   "metadata": {},
   "outputs": [],
   "source": [
    "SAR_EYC = df_Age['SAR_EYC'].iloc[0]\n",
    "err_SAR_EYC = df_Age['err_SAR_EYC'].iloc[0]\n",
    "SAR_GDL = df_Age['SAR_GDL'].iloc[0]\n",
    "err_SAR_GDL = df_Age['err_SAR_GDL'].iloc[0]\n"
   ]
  },
  {
   "cell_type": "markdown",
   "id": "ed516f7f",
   "metadata": {},
   "source": [
    "## Calculate Hg Accumulation Rates and Uncertainties\n",
    "\n",
    "\n",
    "$$\n",
    "\\mathrm{HgAR} = \\mathrm{Hg} × \\mathrm{DBD} × \\mathrm{SAR} × 10\n",
    "$$\n",
    "\n",
    "(Conversion factor accounts for unit scaling.)"
   ]
  },
  {
   "cell_type": "code",
   "execution_count": 16,
   "id": "f4754903",
   "metadata": {},
   "outputs": [],
   "source": [
    "HgAR_EYC, err_EYC = calculate_HgAR_vector(\n",
    "    df_Hg['Hg_conc_EYC'], df_DBD['DBD_EYC'], SAR_EYC,\n",
    "    df_Hg['RSD_EYC'], err_DBD, err_SAR_EYC)\n",
    "\n",
    "HgAR_GDL, err_GDL = calculate_HgAR_vector(\n",
    "    df_Hg['Hg_conc_GDL'], df_DBD['DBD_GDL'], SAR_GDL,\n",
    "    df_Hg['RSD_GDL'], err_DBD, err_SAR_GDL)"
   ]
  },
  {
   "cell_type": "markdown",
   "id": "34d042a0",
   "metadata": {},
   "source": [
    "## Select Data from 1970 to 2023\n",
    "\n",
    "HgAR values and corresponding ages are filtered to this time period."
   ]
  },
  {
   "cell_type": "code",
   "execution_count": 17,
   "id": "5d94759a",
   "metadata": {},
   "outputs": [],
   "source": [
    "age_EYC = df_Age['age_EYC']\n",
    "age_GDL = df_Age['age_GDL']\n",
    "\n",
    "HgAR_EYC_sel = HgAR_EYC.iloc[3:18]\n",
    "age_EYC_sel = age_EYC.iloc[3:18]\n",
    "\n",
    "HgAR_GDL_sel = HgAR_GDL.iloc[2:20]\n",
    "age_GDL_sel = age_GDL.iloc[2:20]\n",
    "\n",
    "# Ensure ascending time order\n",
    "if age_EYC_sel.iloc[0] > age_EYC_sel.iloc[-1]:\n",
    "    age_EYC_sel = age_EYC_sel[::-1]\n",
    "    HgAR_EYC_sel = HgAR_EYC_sel[::-1]\n",
    "\n",
    "if age_GDL_sel.iloc[0] > age_GDL_sel.iloc[-1]:\n",
    "    age_GDL_sel = age_GDL_sel[::-1]\n",
    "    HgAR_GDL_sel = HgAR_GDL_sel[::-1]"
   ]
  },
  {
   "cell_type": "markdown",
   "id": "81110044",
   "metadata": {},
   "source": [
    "## Integrate Mercury Flux Over Time (µg/m²)\n",
    "\n",
    "Numerical integration of the HgAR values from 1970–2023."
   ]
  },
  {
   "cell_type": "code",
   "execution_count": 18,
   "id": "b3e12dd8",
   "metadata": {},
   "outputs": [],
   "source": [
    "area_EYC = integrate_HgAR(HgAR_EYC_sel, age_EYC_sel)\n",
    "area_GDL = integrate_HgAR(HgAR_GDL_sel, age_GDL_sel)"
   ]
  },
  {
   "cell_type": "markdown",
   "id": "a79b9eb8",
   "metadata": {},
   "source": [
    "## Estimate Uncertainty on Integrated Flux\n",
    "\n",
    "Propagated error is estimated using trapezoidal variance."
   ]
  },
  {
   "cell_type": "code",
   "execution_count": 19,
   "id": "fc999d8b",
   "metadata": {},
   "outputs": [],
   "source": [
    "err_EYC_sel = err_EYC.iloc[0:18]\n",
    "err_GDL_sel = err_GDL.iloc[0:20]\n",
    "\n",
    "if age_EYC_sel.iloc[0] > age_EYC_sel.iloc[-1]:\n",
    "    err_EYC_sel = err_EYC_sel[::-1]\n",
    "if age_GDL_sel.iloc[0] > age_GDL_sel.iloc[-1]:\n",
    "    err_GDL_sel = err_GDL_sel[::-1]\n",
    "\n",
    "err_area_EYC = integrate_error(err_EYC_sel, age_EYC_sel)\n",
    "err_area_GDL = integrate_error(err_GDL_sel, age_GDL_sel)"
   ]
  },
  {
   "cell_type": "markdown",
   "id": "dc63ecdd",
   "metadata": {},
   "source": [
    "## Total Mercury Mass in Lake Sediments (kg)\n",
    "\n",
    "Flux values are multiplied by lake surface to obtain mass estimates."
   ]
  },
  {
   "cell_type": "code",
   "execution_count": 20,
   "id": "05de65b1",
   "metadata": {},
   "outputs": [],
   "source": [
    "mass_EYC, err_mass_EYC = compute_mass(area_EYC, err_area_EYC, surface_EYC_m2)\n",
    "mass_GDL, err_mass_GDL = compute_mass(area_GDL, err_area_GDL, surface_GDL_m2)"
   ]
  },
  {
   "cell_type": "markdown",
   "id": "7d855379",
   "metadata": {},
   "source": [
    "## Results and Output\n",
    "\n",
    "Mercury mass and error are printed and saved to Excel for further use."
   ]
  },
  {
   "cell_type": "code",
   "execution_count": 21,
   "id": "e796141f",
   "metadata": {},
   "outputs": [
    {
     "name": "stdout",
     "output_type": "stream",
     "text": [
      "Hg flux 1970–2023:\n",
      "  EYC: 9633.87 ± 142.21 µg/m²\n",
      "  GDL: 3467.79 ± 50.43 µg/m²\n",
      "Estimated Mercury mass in sediments (1970–2023):\n",
      "  EYC lake: 1.455 kg ± 0.021 kg\n",
      "  GDL lake: 0.163 kg ± 0.002 kg\n",
      "Results saved in 'HgAR.xlsx'\n"
     ]
    }
   ],
   "source": [
    "print(f\"Hg flux 1970–2023:\")\n",
    "print(f\"  EYC: {area_EYC:.2f} ± {err_area_EYC:.2f} µg/m²\")\n",
    "print(f\"  GDL: {area_GDL:.2f} ± {err_area_GDL:.2f} µg/m²\")\n",
    "\n",
    "print(f\"Estimated Mercury mass in sediments (1970–2023):\")\n",
    "print(f\"  EYC lake: {mass_EYC / 1e9:.3f} kg ± {err_mass_EYC / 1e9:.3f} kg\")\n",
    "print(f\"  GDL lake: {mass_GDL / 1e9:.3f} kg ± {err_mass_GDL / 1e9:.3f} kg\")\n",
    "\n",
    "results = pd.DataFrame({\n",
    "    'Hg_AR_EYC': HgAR_EYC,\n",
    "    'Err_EYC': err_EYC,\n",
    "    'Hg_AR_GDL': HgAR_GDL,\n",
    "    'Err_GDL': err_GDL\n",
    "})\n",
    "\n",
    "results.to_excel('HgAR.xlsx', index=False)\n",
    "print(\"Results saved in 'HgAR.xlsx'\")"
   ]
  }
 ],
 "metadata": {
  "kernelspec": {
   "display_name": "base",
   "language": "python",
   "name": "python3"
  },
  "language_info": {
   "codemirror_mode": {
    "name": "ipython",
    "version": 3
   },
   "file_extension": ".py",
   "mimetype": "text/x-python",
   "name": "python",
   "nbconvert_exporter": "python",
   "pygments_lexer": "ipython3",
   "version": "3.12.2"
  }
 },
 "nbformat": 4,
 "nbformat_minor": 5
}
